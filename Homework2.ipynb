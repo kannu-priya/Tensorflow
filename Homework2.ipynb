{
 "cells": [
  {
   "cell_type": "code",
   "execution_count": 2,
   "metadata": {},
   "outputs": [],
   "source": [
    "#Kannu Priya Arora\n",
    "#Title: Tensorflow Homework 2\n",
    "#Date: June 9, 2018\n",
    "\n",
    "import tensorflow as tf\n",
    "\n",
    "#Clear cache for default graph\n",
    "tf.reset_default_graph()\n",
    "\n",
    "#Input placeholder and data set\n",
    "with tf.name_scope(\"Input\"):\n",
    "    #Define placeholder array of type float32 and None shape (shape to be defined later)\n",
    "    A = tf.placeholder(\"float32\", shape = None, name = \"Input_placeholder\")\n",
    "    #Create normally distributed tensor of 100 numbers. Mean = 1 and Standard Deviation = 2\n",
    "    # Leaving Dtype as default tf.float32\n",
    "    a_tensor = tf.random_normal(shape = (100,), mean=1.0, stddev=2.0)\n",
    "    \n",
    "#Define the middle operators\n",
    "with tf.name_scope(\"Middle_Section\"):    \n",
    "    b = tf.reduce_prod(A, name = \"b_prod\")\n",
    "    c = tf.reduce_mean(A,  name = \"c_mean\")\n",
    "    d = tf.reduce_sum(A, name = \"d_sum\")\n",
    "    e = tf.add(c,b, name = \"e_add\")\n",
    "\n",
    "#Final output node\n",
    "with tf.name_scope(\"Final_Node\"):\n",
    "    f = tf.multiply(d, e, name=\"f_mul\")  \n",
    "    \n",
    "#Start up a Session using the default graph\n",
    "with tf.Session() as sess:\n",
    "    a_float = a_tensor.eval() #Evaluate tensor of random 100 numbers. Output is numpy float dataset \n",
    "    #Run the session, passing in evaluated object (a_float) as the value to `feed_dict`\n",
    "    sess.run(f, feed_dict = {A : a_float}) \n",
    "    \n",
    "\n",
    "sess.graph.as_graph_def()\n",
    "file_writer = tf.summary.FileWriter('./mygraph/Homework', sess.graph)\n",
    "file_writer.close()\n",
    "sess.close()\n"
   ]
  },
  {
   "cell_type": "code",
   "execution_count": 70,
   "metadata": {},
   "outputs": [
    {
     "data": {
      "image/png": "[encoded data removed]",
      "text/plain": [
       "<Figure size 432x288 with 1 Axes>"
      ]
     },
     "metadata": {},
     "output_type": "display_data"
    }
   ],
   "source": [
    "#Plot data set and save the plot in file\n",
    "\n",
    "import matplotlib.pyplot as plt\n",
    "%matplotlib inline\n",
    "\n",
    "# plot histogram of the data\n",
    "plt.hist(a_float, facecolor='green', alpha = 0.75)\n",
    "plt.xlabel('Random data distribution, mean = 1 and Stddev = 2')\n",
    "plt.ylabel('Frequency')\n",
    "plt.suptitle('Data Graph, Kannu Priya Arora - Homework2')\n",
    "\n",
    "plt.savefig('tf_homework2_data.png') #Save the histogram in a file\n",
    "plt.show()"
   ]
  },
  {
   "cell_type": "code",
   "execution_count": null,
   "metadata": {},
   "outputs": [],
   "source": []
  }
 ],
 "metadata": {
  "kernelspec": {
   "display_name": "Python 3",
   "language": "python",
   "name": "python3"
  },
  "language_info": {
   "codemirror_mode": {
    "name": "ipython",
    "version": 3
   },
   "file_extension": ".py",
   "mimetype": "text/x-python",
   "name": "python",
   "nbconvert_exporter": "python",
   "pygments_lexer": "ipython3",
   "version": "3.6.4"
  }
 },
 "nbformat": 4,
 "nbformat_minor": 2
}
